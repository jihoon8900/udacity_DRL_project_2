{
 "cells": [
  {
   "cell_type": "code",
   "execution_count": 1,
   "metadata": {},
   "outputs": [],
   "source": [
    "import os\n",
    "\n",
    "import torch\n",
    "from unityagents import UnityEnvironment\n",
    "import numpy as np\n",
    "from TD3_agent import Agent\n",
    "import matplotlib.pyplot as plt"
   ]
  },
  {
   "cell_type": "markdown",
   "metadata": {},
   "source": [
    "'''\n",
    "Next, we will start the environment!  **_Before running the code cell below_**, change the `file_name` parameter to match the location of the Unity environment that you downloaded.\n",
    "\n",
    "- **Mac**: `\"path/to/Reacher.app\"`\n",
    "- **Windows** (x86): `\"path/to/Reacher_Windows_x86/Reacher.exe\"`\n",
    "- **Windows** (x86_64): `\"path/to/Reacher_Windows_x86_64/Reacher.exe\"`\n",
    "- **Linux** (x86): `\"path/to/Reacher_Linux/Reacher.x86\"`\n",
    "- **Linux** (x86_64): `\"path/to/Reacher_Linux/Reacher.x86_64\"`\n",
    "- **Linux** (x86, headless): `\"path/to/Reacher_Linux_NoVis/Reacher.x86\"`\n",
    "- **Linux** (x86_64, headless): `\"path/to/Reacher_Linux_NoVis/Reacher.x86_64\"`\n",
    "\n",
    "For instance, if you are using a Mac, then you downloaded `Reacher.app`.  If this file is in the same folder as the notebook, then the line below should appear as follows:\n",
    "env = UnityEnvironment(file_name=\"Reacher.app\")\n",
    "'''"
   ]
  },
  {
   "cell_type": "code",
   "execution_count": 2,
   "metadata": {},
   "outputs": [
    {
     "name": "stderr",
     "output_type": "stream",
     "text": [
      "INFO:unityagents:\n",
      "'Academy' started successfully!\n",
      "Unity Academy name: Academy\n",
      "        Number of Brains: 1\n",
      "        Number of External Brains : 1\n",
      "        Lesson number : 0\n",
      "        Reset Parameters :\n",
      "\t\tgoal_speed -> 1.0\n",
      "\t\tgoal_size -> 5.0\n",
      "Unity brain name: ReacherBrain\n",
      "        Number of Visual Observations (per agent): 0\n",
      "        Vector Observation space type: continuous\n",
      "        Vector Observation space size (per agent): 33\n",
      "        Number of stacked Vector Observation: 1\n",
      "        Vector Action space type: continuous\n",
      "        Vector Action space size (per agent): 4\n",
      "        Vector Action descriptions: , , , \n"
     ]
    },
    {
     "name": "stdout",
     "output_type": "stream",
     "text": [
      "Episode 10\tAverage Score : 0.59 \t eps : 0.990\n",
      "Episode 20\tAverage Score : 0.80 \t eps : 0.980\n",
      "Episode 30\tAverage Score : 0.89 \t eps : 0.969\n",
      "Episode 40\tAverage Score : 0.86 \t eps : 0.959\n",
      "Episode 50\tAverage Score : 0.78 \t eps : 0.949\n",
      "Episode 60\tAverage Score : 0.71 \t eps : 0.939\n",
      "Episode 70\tAverage Score : 0.72 \t eps : 0.929\n",
      "Episode 80\tAverage Score : 0.79 \t eps : 0.918\n",
      "Episode 90\tAverage Score : 0.92 \t eps : 0.908\n",
      "Episode 100\tAverage Score : 1.13 \t eps : 0.898\n",
      "Episode 110\tAverage Score : 1.49 \t eps : 0.888\n",
      "Episode 120\tAverage Score : 2.15 \t eps : 0.878\n",
      "Episode 130\tAverage Score : 3.40 \t eps : 0.867\n",
      "Episode 140\tAverage Score : 5.31 \t eps : 0.857\n",
      "Episode 150\tAverage Score : 7.33 \t eps : 0.847\n",
      "Episode 160\tAverage Score : 9.49 \t eps : 0.837\n",
      "Episode 170\tAverage Score : 11.56 \t eps : 0.827\n",
      "Episode 180\tAverage Score : 13.58 \t eps : 0.816\n",
      "Episode 190\tAverage Score : 15.38 \t eps : 0.806\n",
      "Episode 200\tAverage Score : 17.29 \t eps : 0.796\n",
      "Episode 210\tAverage Score : 19.53 \t eps : 0.786\n",
      "Episode 220\tAverage Score : 22.33 \t eps : 0.776\n",
      "Episode 230\tAverage Score : 24.75 \t eps : 0.765\n",
      "Episode 240\tAverage Score : 26.51 \t eps : 0.755\n",
      "Episode 250\tAverage Score : 28.20 \t eps : 0.745\n",
      "Episode 260\tAverage Score : 29.85 \t eps : 0.735\n",
      "Episode 262\tAverage Score : 30.17 \t eps : 0.733\n",
      "Environment solved in 162 episodes!\tAverage Score: 30.17\n"
     ]
    },
    {
     "data": {
      "image/png": "[encoded data removed]",
      "text/plain": [
       "<Figure size 432x288 with 1 Axes>"
      ]
     },
     "metadata": {
      "needs_background": "light"
     },
     "output_type": "display_data"
    }
   ],
   "source": [
    "env = UnityEnvironment(file_name=os.getcwd() + \"/Reacher_Windows_x86_64/Reacher.exe\")\n",
    "\n",
    "# ## Setting\n",
    "state = 'Train'\n",
    "# state = 'Test'\n",
    "mode = 'slow'\n",
    "# mode = 'fast'\n",
    "\n",
    "# ## Train & Test\n",
    "agent = Agent(env=env, random_seed=18)\n",
    "if state == 'Train':\n",
    "    scores = agent.train(n_episodes=3000, max_t=3000)\n",
    "    plt.plot(scores)\n",
    "else: # Test     \n",
    "    agent.actor_local.load_state_dict(torch.load(os.getcwd() + '/saved_model/saved_TD3_actor.pth'))\n",
    "    agent.critic_local_1.load_state_dict(torch.load(os.getcwd() + '/saved_model/saved_TD3_critic_1.pth'))\n",
    "    agent.critic_local_2.load_state_dict(torch.load(os.getcwd() + '/saved_model/saved_TD3_critic_2.pth'))\n",
    "    print('='*30)\n",
    "    print('Sucessfully loaded')\n",
    "    print('='*30)\n",
    "    score_test = []                                  \n",
    "    for test_episode in range(1, 100+1):\n",
    "        train_mode = True if mode == 'fast' else False\n",
    "        env_info = agent.env.reset(train_mode=train_mode)[agent.brain_name]      # reset the environment\n",
    "        state = env_info.vector_observations                         # get the current state\n",
    "        score_temp = 0.                                              # initialize the score\n",
    "        while True:\n",
    "            action = agent.act(state, add_noise=False)               # select an action\n",
    "            env_info = env.step(action)[agent.brain_name]            # send the action to the environment\n",
    "            next_state = env_info.vector_observations                # get the next state\n",
    "            reward = env_info.rewards                                # get the reward\n",
    "            done = env_info.local_done                               # see if episode has finished\n",
    "            score_temp += np.mean(reward)                            # update the score\n",
    "            state = next_state                                       # roll over the state to next time step\n",
    "            if any(done):                                            # exit loop if episode finished\n",
    "                score_test.append(score_temp)\n",
    "                print('\\rEpisode {}\\tAverage Score: {:.2f}'.format(test_episode, np.mean(score_test)), end=\"\")\n",
    "                score_temp = 0.\n",
    "                break\n",
    "        \n",
    "    print(\"\\nFinal Score: {}\".format(np.mean(score_test)))\n",
    "    agent.env.close()"
   ]
  }
 ],
 "metadata": {
  "interpreter": {
   "hash": "e91ca0dc9637791712447764dbe613afbb21893f5d536622bdb9acaf93959e4b"
  },
  "kernelspec": {
   "display_name": "Python 3.6.13 64-bit ('py36': conda)",
   "name": "python3"
  },
  "language_info": {
   "codemirror_mode": {
    "name": "ipython",
    "version": 3
   },
   "file_extension": ".py",
   "mimetype": "text/x-python",
   "name": "python",
   "nbconvert_exporter": "python",
   "pygments_lexer": "ipython3",
   "version": "3.6.13"
  },
  "orig_nbformat": 4
 },
 "nbformat": 4,
 "nbformat_minor": 2
}
